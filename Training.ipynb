{
 "cells": [
  {
   "cell_type": "code",
   "execution_count": 1,
   "metadata": {},
   "outputs": [
    {
     "name": "stderr",
     "output_type": "stream",
     "text": [
      "/Library/Frameworks/Python.framework/Versions/3.10/lib/python3.10/site-packages/tqdm/auto.py:22: TqdmWarning: IProgress not found. Please update jupyter and ipywidgets. See https://ipywidgets.readthedocs.io/en/stable/user_install.html\n",
      "  from .autonotebook import tqdm as notebook_tqdm\n"
     ]
    }
   ],
   "source": [
    "#imports\n",
    "import pandas as pd\n",
    "from datasets import load_dataset, Dataset"
   ]
  },
  {
   "cell_type": "code",
   "execution_count": 2,
   "metadata": {},
   "outputs": [
    {
     "data": {
      "text/html": [
       "<div>\n",
       "<style scoped>\n",
       "    .dataframe tbody tr th:only-of-type {\n",
       "        vertical-align: middle;\n",
       "    }\n",
       "\n",
       "    .dataframe tbody tr th {\n",
       "        vertical-align: top;\n",
       "    }\n",
       "\n",
       "    .dataframe thead th {\n",
       "        text-align: right;\n",
       "    }\n",
       "</style>\n",
       "<table border=\"1\" class=\"dataframe\">\n",
       "  <thead>\n",
       "    <tr style=\"text-align: right;\">\n",
       "      <th></th>\n",
       "      <th>original_Text</th>\n",
       "      <th>Punctuation_Counts_before</th>\n",
       "      <th>Diacritic_Counts</th>\n",
       "      <th>cleaned_text</th>\n",
       "      <th>Stemmed_Text</th>\n",
       "      <th>Lemmatized_Text</th>\n",
       "    </tr>\n",
       "  </thead>\n",
       "  <tbody>\n",
       "    <tr>\n",
       "      <th>0</th>\n",
       "      <td>وكان الرئيس الاوكراني المؤقت  الكسندر تورتشينو...</td>\n",
       "      <td>146</td>\n",
       "      <td>0</td>\n",
       "      <td>وكان الرئيس الاوكراني المؤقت الكسندر تورتشينوف...</td>\n",
       "      <td>وكان رئس وكر ؤقت كسندر تورتشينوف امر سحب قوت ا...</td>\n",
       "      <td>كان رئيس الاوكراني المؤقت الكسندر تورتشينوف مر...</td>\n",
       "    </tr>\n",
       "    <tr>\n",
       "      <th>1</th>\n",
       "      <td>بحلول عام 2050 ستحتاج مصر الي 21 مليار متر مكع...</td>\n",
       "      <td>74</td>\n",
       "      <td>1</td>\n",
       "      <td>بحلول عام 2050 ستحتاج مصر الي 21 مليار متر مكع...</td>\n",
       "      <td>حلل عام 2050 حاج مصر الي 21 لير متر كعب حصت حل...</td>\n",
       "      <td>حلول عام 2050 احتاج مصر ال 21 مليار متر مكعب ح...</td>\n",
       "    </tr>\n",
       "    <tr>\n",
       "      <th>2</th>\n",
       "      <td>وذكرت وكاله الانباء المحليه  جي ان اس  ان جماع...</td>\n",
       "      <td>38</td>\n",
       "      <td>0</td>\n",
       "      <td>وذكرت وكاله الانباء المحليه جي ان اس ان جماعه ...</td>\n",
       "      <td>ذكر وكل باء حله جي ان اس ان جمع جيش حمد تشدد ا...</td>\n",
       "      <td>ذكر كال الانباء المحليه جي ان اس ان جماع جيش م...</td>\n",
       "    </tr>\n",
       "    <tr>\n",
       "      <th>3</th>\n",
       "      <td>ووقع اختياره علي واد عمقه 800 متر محاط بثماني ...</td>\n",
       "      <td>378</td>\n",
       "      <td>15</td>\n",
       "      <td>ووقع اختياره علي واد عمقه 800 متر محاط بثماني ...</td>\n",
       "      <td>وقع خير علي واد عمق 800 متر حاط بثم قمم حده تش...</td>\n",
       "      <td>وقع اختيار علي وادي عمق 800 متر محاط بثماني قم...</td>\n",
       "    </tr>\n",
       "    <tr>\n",
       "      <th>4</th>\n",
       "      <td>مسلح حوثي في اب  وقال المصدر ان المسلحين الحوث...</td>\n",
       "      <td>26</td>\n",
       "      <td>3</td>\n",
       "      <td>مسلح حوثي اب وقال المصدر ان المسلحين الحوثيين ...</td>\n",
       "      <td>سلح حوث اب وقل صدر ان سلح حوث هجم شطء حرك همي ...</td>\n",
       "      <td>مسلح حوثي اب قال مصدر ان مسلح الحوثيين هاجم نش...</td>\n",
       "    </tr>\n",
       "  </tbody>\n",
       "</table>\n",
       "</div>"
      ],
      "text/plain": [
       "                                       original_Text  \\\n",
       "0  وكان الرئيس الاوكراني المؤقت  الكسندر تورتشينو...   \n",
       "1  بحلول عام 2050 ستحتاج مصر الي 21 مليار متر مكع...   \n",
       "2  وذكرت وكاله الانباء المحليه  جي ان اس  ان جماع...   \n",
       "3  ووقع اختياره علي واد عمقه 800 متر محاط بثماني ...   \n",
       "4  مسلح حوثي في اب  وقال المصدر ان المسلحين الحوث...   \n",
       "\n",
       "   Punctuation_Counts_before  Diacritic_Counts  \\\n",
       "0                        146                 0   \n",
       "1                         74                 1   \n",
       "2                         38                 0   \n",
       "3                        378                15   \n",
       "4                         26                 3   \n",
       "\n",
       "                                        cleaned_text  \\\n",
       "0  وكان الرئيس الاوكراني المؤقت الكسندر تورتشينوف...   \n",
       "1  بحلول عام 2050 ستحتاج مصر الي 21 مليار متر مكع...   \n",
       "2  وذكرت وكاله الانباء المحليه جي ان اس ان جماعه ...   \n",
       "3  ووقع اختياره علي واد عمقه 800 متر محاط بثماني ...   \n",
       "4  مسلح حوثي اب وقال المصدر ان المسلحين الحوثيين ...   \n",
       "\n",
       "                                        Stemmed_Text  \\\n",
       "0  وكان رئس وكر ؤقت كسندر تورتشينوف امر سحب قوت ا...   \n",
       "1  حلل عام 2050 حاج مصر الي 21 لير متر كعب حصت حل...   \n",
       "2  ذكر وكل باء حله جي ان اس ان جمع جيش حمد تشدد ا...   \n",
       "3  وقع خير علي واد عمق 800 متر حاط بثم قمم حده تش...   \n",
       "4  سلح حوث اب وقل صدر ان سلح حوث هجم شطء حرك همي ...   \n",
       "\n",
       "                                     Lemmatized_Text  \n",
       "0  كان رئيس الاوكراني المؤقت الكسندر تورتشينوف مر...  \n",
       "1  حلول عام 2050 احتاج مصر ال 21 مليار متر مكعب ح...  \n",
       "2  ذكر كال الانباء المحليه جي ان اس ان جماع جيش م...  \n",
       "3  وقع اختيار علي وادي عمق 800 متر محاط بثماني قم...  \n",
       "4  مسلح حوثي اب قال مصدر ان مسلح الحوثيين هاجم نش...  "
      ]
     },
     "execution_count": 2,
     "metadata": {},
     "output_type": "execute_result"
    }
   ],
   "source": [
    "train_inputs = pd.read_csv('../preprocessed_data/train_inputs.csv')\n",
    "train_inputs.head()"
   ]
  },
  {
   "cell_type": "code",
   "execution_count": 3,
   "metadata": {},
   "outputs": [
    {
     "data": {
      "text/html": [
       "<div>\n",
       "<style scoped>\n",
       "    .dataframe tbody tr th:only-of-type {\n",
       "        vertical-align: middle;\n",
       "    }\n",
       "\n",
       "    .dataframe tbody tr th {\n",
       "        vertical-align: top;\n",
       "    }\n",
       "\n",
       "    .dataframe thead th {\n",
       "        text-align: right;\n",
       "    }\n",
       "</style>\n",
       "<table border=\"1\" class=\"dataframe\">\n",
       "  <thead>\n",
       "    <tr style=\"text-align: right;\">\n",
       "      <th></th>\n",
       "      <th>original_Text</th>\n",
       "      <th>Punctuation_Counts_before</th>\n",
       "      <th>Diacritic_Counts</th>\n",
       "      <th>cleaned_text</th>\n",
       "    </tr>\n",
       "  </thead>\n",
       "  <tbody>\n",
       "    <tr>\n",
       "      <th>0</th>\n",
       "      <td>بدأت القوات الأوكرانيه الانسحاب من شبه جزيره ا...</td>\n",
       "      <td>3</td>\n",
       "      <td>0</td>\n",
       "      <td>بدأت القوات الأوكرانيه الانسحاب من شبه جزيره ا...</td>\n",
       "    </tr>\n",
       "    <tr>\n",
       "      <th>1</th>\n",
       "      <td>هل سيتم تغيير العباره الشهيره للمؤرخ اليوناني...</td>\n",
       "      <td>8</td>\n",
       "      <td>0</td>\n",
       "      <td>هل سيتم تغيير العباره الشهيره للمؤرخ اليوناني...</td>\n",
       "    </tr>\n",
       "    <tr>\n",
       "      <th>2</th>\n",
       "      <td>قالت الشرطه في القطاع الهندي من إقليم كشمير إن...</td>\n",
       "      <td>3</td>\n",
       "      <td>0</td>\n",
       "      <td>قالت الشرطه في القطاع الهندي من إقليم كشمير إن...</td>\n",
       "    </tr>\n",
       "    <tr>\n",
       "      <th>3</th>\n",
       "      <td>في عام 816  تجول راهب يدعي كوكاي  في المنحدرات...</td>\n",
       "      <td>9</td>\n",
       "      <td>0</td>\n",
       "      <td>في عام 816  تجول راهب يدعي كوكاي  في المنحدرات...</td>\n",
       "    </tr>\n",
       "    <tr>\n",
       "      <th>4</th>\n",
       "      <td>أكد مصدر في  الحراك التهامي  لأبناء محافظه الح...</td>\n",
       "      <td>3</td>\n",
       "      <td>0</td>\n",
       "      <td>أكد مصدر في  الحراك التهامي  لأبناء محافظه الح...</td>\n",
       "    </tr>\n",
       "  </tbody>\n",
       "</table>\n",
       "</div>"
      ],
      "text/plain": [
       "                                       original_Text  \\\n",
       "0  بدأت القوات الأوكرانيه الانسحاب من شبه جزيره ا...   \n",
       "1   هل سيتم تغيير العباره الشهيره للمؤرخ اليوناني...   \n",
       "2  قالت الشرطه في القطاع الهندي من إقليم كشمير إن...   \n",
       "3  في عام 816  تجول راهب يدعي كوكاي  في المنحدرات...   \n",
       "4  أكد مصدر في  الحراك التهامي  لأبناء محافظه الح...   \n",
       "\n",
       "   Punctuation_Counts_before  Diacritic_Counts  \\\n",
       "0                          3                 0   \n",
       "1                          8                 0   \n",
       "2                          3                 0   \n",
       "3                          9                 0   \n",
       "4                          3                 0   \n",
       "\n",
       "                                        cleaned_text  \n",
       "0  بدأت القوات الأوكرانيه الانسحاب من شبه جزيره ا...  \n",
       "1   هل سيتم تغيير العباره الشهيره للمؤرخ اليوناني...  \n",
       "2  قالت الشرطه في القطاع الهندي من إقليم كشمير إن...  \n",
       "3  في عام 816  تجول راهب يدعي كوكاي  في المنحدرات...  \n",
       "4  أكد مصدر في  الحراك التهامي  لأبناء محافظه الح...  "
      ]
     },
     "execution_count": 3,
     "metadata": {},
     "output_type": "execute_result"
    }
   ],
   "source": [
    "train_labels = pd.read_csv('../preprocessed_data/train_labels.csv')\n",
    "train_labels.head()"
   ]
  },
  {
   "cell_type": "code",
   "execution_count": 4,
   "metadata": {},
   "outputs": [
    {
     "data": {
      "text/html": [
       "<div>\n",
       "<style scoped>\n",
       "    .dataframe tbody tr th:only-of-type {\n",
       "        vertical-align: middle;\n",
       "    }\n",
       "\n",
       "    .dataframe tbody tr th {\n",
       "        vertical-align: top;\n",
       "    }\n",
       "\n",
       "    .dataframe thead th {\n",
       "        text-align: right;\n",
       "    }\n",
       "</style>\n",
       "<table border=\"1\" class=\"dataframe\">\n",
       "  <thead>\n",
       "    <tr style=\"text-align: right;\">\n",
       "      <th></th>\n",
       "      <th>text</th>\n",
       "      <th>summary</th>\n",
       "    </tr>\n",
       "  </thead>\n",
       "  <tbody>\n",
       "    <tr>\n",
       "      <th>0</th>\n",
       "      <td>وكان الرئيس الاوكراني المؤقت الكسندر تورتشينوف...</td>\n",
       "      <td>بدأت القوات الأوكرانيه الانسحاب من شبه جزيره ا...</td>\n",
       "    </tr>\n",
       "    <tr>\n",
       "      <th>1</th>\n",
       "      <td>بحلول عام 2050 ستحتاج مصر الي 21 مليار متر مكع...</td>\n",
       "      <td>هل سيتم تغيير العباره الشهيره للمؤرخ اليوناني...</td>\n",
       "    </tr>\n",
       "    <tr>\n",
       "      <th>2</th>\n",
       "      <td>وذكرت وكاله الانباء المحليه جي ان اس ان جماعه ...</td>\n",
       "      <td>قالت الشرطه في القطاع الهندي من إقليم كشمير إن...</td>\n",
       "    </tr>\n",
       "    <tr>\n",
       "      <th>3</th>\n",
       "      <td>ووقع اختياره علي واد عمقه 800 متر محاط بثماني ...</td>\n",
       "      <td>في عام 816  تجول راهب يدعي كوكاي  في المنحدرات...</td>\n",
       "    </tr>\n",
       "    <tr>\n",
       "      <th>4</th>\n",
       "      <td>مسلح حوثي اب وقال المصدر ان المسلحين الحوثيين ...</td>\n",
       "      <td>أكد مصدر في  الحراك التهامي  لأبناء محافظه الح...</td>\n",
       "    </tr>\n",
       "  </tbody>\n",
       "</table>\n",
       "</div>"
      ],
      "text/plain": [
       "                                                text  \\\n",
       "0  وكان الرئيس الاوكراني المؤقت الكسندر تورتشينوف...   \n",
       "1  بحلول عام 2050 ستحتاج مصر الي 21 مليار متر مكع...   \n",
       "2  وذكرت وكاله الانباء المحليه جي ان اس ان جماعه ...   \n",
       "3  ووقع اختياره علي واد عمقه 800 متر محاط بثماني ...   \n",
       "4  مسلح حوثي اب وقال المصدر ان المسلحين الحوثيين ...   \n",
       "\n",
       "                                             summary  \n",
       "0  بدأت القوات الأوكرانيه الانسحاب من شبه جزيره ا...  \n",
       "1   هل سيتم تغيير العباره الشهيره للمؤرخ اليوناني...  \n",
       "2  قالت الشرطه في القطاع الهندي من إقليم كشمير إن...  \n",
       "3  في عام 816  تجول راهب يدعي كوكاي  في المنحدرات...  \n",
       "4  أكد مصدر في  الحراك التهامي  لأبناء محافظه الح...  "
      ]
     },
     "execution_count": 4,
     "metadata": {},
     "output_type": "execute_result"
    }
   ],
   "source": [
    "df_x = train_inputs.copy().rename(columns={'cleaned_text': 'text'})\n",
    "df_y = train_labels.copy().rename(columns={'cleaned_text': 'summary'})\n",
    "df = pd.concat([df_x['text'], df_y['summary']], axis=1)\n",
    "df.head()"
   ]
  },
  {
   "cell_type": "code",
   "execution_count": 5,
   "metadata": {},
   "outputs": [],
   "source": [
    "train_dataset = Dataset.from_dict(df)"
   ]
  },
  {
   "cell_type": "code",
   "execution_count": 6,
   "metadata": {},
   "outputs": [],
   "source": [
    "from transformers import AutoTokenizer\n",
    "\n",
    "model = 'moussaKam/AraBART'\n",
    "tokenizer = AutoTokenizer.from_pretrained(model)"
   ]
  },
  {
   "cell_type": "code",
   "execution_count": 7,
   "metadata": {},
   "outputs": [],
   "source": [
    "max_input_length = 1024\n",
    "max_target_length = 128\n",
    "\n",
    "# Tokenizes the input dataframe to match the used AraBART model\n",
    "# Returns a dictionary {input_ids, attention_mask, summary}\n",
    "def tokenize(df):\n",
    "    model_input = [row for row in df['text']]\n",
    "    model_input = tokenizer(model_input, max_length=max_input_length, truncation=True)\n",
    "\n",
    "    with tokenizer.as_target_tokenizer():\n",
    "        labels = tokenizer(df['summary'], max_length=max_target_length, truncation=True)\n",
    "    \n",
    "    model_input['summary'] = labels['input_ids']\n",
    "    return model_input\n"
   ]
  },
  {
   "attachments": {},
   "cell_type": "markdown",
   "metadata": {},
   "source": [
    "### Different lengths??"
   ]
  },
  {
   "cell_type": "code",
   "execution_count": 8,
   "metadata": {},
   "outputs": [
    {
     "name": "stderr",
     "output_type": "stream",
     "text": [
      "/Library/Frameworks/Python.framework/Versions/3.10/lib/python3.10/site-packages/transformers/tokenization_utils_base.py:3596: UserWarning: `as_target_tokenizer` is deprecated and will be removed in v5 of Transformers. You can tokenize your labels by using the argument `text_target` of the regular `__call__` method (either in the same call as your input texts if you use the same keyword arguments, or in a separate call.\n",
      "  warnings.warn(\n"
     ]
    }
   ],
   "source": [
    "tokenized_data = tokenize(train_dataset)"
   ]
  },
  {
   "cell_type": "code",
   "execution_count": 14,
   "metadata": {},
   "outputs": [],
   "source": [
    "from transformers import AutoModelForSeq2SeqLM, DataCollatorForSeq2Seq, Seq2SeqTrainer, Seq2SeqTrainingArguments\n",
    "\n",
    "pre_trained_model = AutoModelForSeq2SeqLM.from_pretrained(model)"
   ]
  },
  {
   "cell_type": "code",
   "execution_count": 10,
   "metadata": {},
   "outputs": [],
   "source": [
    "batch_size = 4\n",
    "model_name = 'AraBART'\n",
    "arguments = Seq2SeqTrainingArguments(\n",
    "    model_name,\n",
    "    evaluation_strategy='epoch',\n",
    "    learning_rate=5e-5,\n",
    "    num_train_epochs=3,\n",
    "    predict_with_generate=True\n",
    ")"
   ]
  },
  {
   "cell_type": "code",
   "execution_count": 15,
   "metadata": {},
   "outputs": [],
   "source": [
    "data_collator = DataCollatorForSeq2Seq(tokenizer, model=pre_trained_model)"
   ]
  },
  {
   "cell_type": "code",
   "execution_count": 22,
   "metadata": {},
   "outputs": [],
   "source": [
    "trainer = Seq2SeqTrainer(\n",
    "    pre_trained_model,\n",
    "    arguments,\n",
    "    train_dataset=tokenized_data,\n",
    "    tokenizer=tokenizer,\n",
    "    data_collator=data_collator\n",
    ")"
   ]
  },
  {
   "cell_type": "code",
   "execution_count": 23,
   "metadata": {},
   "outputs": [],
   "source": [
    "# trainer.train()"
   ]
  },
  {
   "cell_type": "code",
   "execution_count": null,
   "metadata": {},
   "outputs": [],
   "source": []
  }
 ],
 "metadata": {
  "kernelspec": {
   "display_name": "Python 3",
   "language": "python",
   "name": "python3"
  },
  "language_info": {
   "codemirror_mode": {
    "name": "ipython",
    "version": 3
   },
   "file_extension": ".py",
   "mimetype": "text/x-python",
   "name": "python",
   "nbconvert_exporter": "python",
   "pygments_lexer": "ipython3",
   "version": "3.10.8"
  },
  "orig_nbformat": 4
 },
 "nbformat": 4,
 "nbformat_minor": 2
}
